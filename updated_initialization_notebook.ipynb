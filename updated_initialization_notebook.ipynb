{
 "cells": [
  {
   "cell_type": "markdown",
   "id": "cacaf63c",
   "metadata": {},
   "source": [
    "# Initialization Notebook"
   ]
  },
  {
   "cell_type": "code",
   "execution_count": null,
   "id": "406fb545",
   "metadata": {},
   "outputs": [],
   "source": [
    "\n",
    "%%capture\n",
    "!pip install pandas numpy matplotlib seaborn scikit-learn\n",
    "statsmodels scipy joblib plotly"
   ]
  },
  {
   "cell_type": "markdown",
   "id": "49afdb78",
   "metadata": {},
   "source": [
    "### Libraries have been installed successfully."
   ]
  },
  {
   "cell_type": "code",
   "execution_count": null,
   "id": "b7ce7464",
   "metadata": {},
   "outputs": [],
   "source": [
    "\n",
    "import os\n",
    "import sys\n",
    "import time\n"
   ]
  },
  {
   "cell_type": "markdown",
   "id": "fbf32bb8",
   "metadata": {},
   "source": [
    "### General libraries imported."
   ]
  },
  {
   "cell_type": "code",
   "execution_count": null,
   "id": "72bd7f33",
   "metadata": {},
   "outputs": [],
   "source": [
    "\n",
    "import pandas as pd\n",
    "import numpy as np\n"
   ]
  },
  {
   "cell_type": "code",
   "execution_count": null,
   "id": "06f570e6",
   "metadata": {},
   "outputs": [],
   "source": [
    "import statsmodels.api as sm\n",
    "from scipy import stats"
   ]
  },
  {
   "cell_type": "markdown",
   "id": "626f88ce",
   "metadata": {},
   "source": [
    "### Analytic libraries imported."
   ]
  },
  {
   "cell_type": "code",
   "execution_count": null,
   "id": "eca5810e",
   "metadata": {},
   "outputs": [],
   "source": [
    "import plotly.express as px"
   ]
  },
  {
   "cell_type": "code",
   "execution_count": null,
   "id": "438db04a",
   "metadata": {},
   "outputs": [],
   "source": [
    "\n",
    "import matplotlib.pyplot as plt\n",
    "import seaborn as sns\n"
   ]
  },
  {
   "cell_type": "markdown",
   "id": "9d5fe095",
   "metadata": {},
   "source": [
    "### Visualization libraries imported."
   ]
  },
  {
   "cell_type": "code",
   "execution_count": null,
   "id": "62f719dc",
   "metadata": {},
   "outputs": [],
   "source": [
    "\n",
    "ROOT_DIR = os.getcwd()\n"
   ]
  },
  {
   "cell_type": "code",
   "execution_count": null,
   "id": "ad15f9ef",
   "metadata": {},
   "outputs": [],
   "source": [
    "\n",
    "DATAFRAME_SAMPLE = pd.DataFrame({\n",
    "    'A': np.random.rand(5),\n",
    "    'B': np.random.rand(5)\n",
    "})\n"
   ]
  },
  {
   "cell_type": "code",
   "execution_count": null,
   "id": "cd922aff",
   "metadata": {},
   "outputs": [],
   "source": [
    "\n",
    "PLOT_STYLE = sns.set_style(\"whitegrid\")\n"
   ]
  },
  {
   "cell_type": "code",
   "execution_count": null,
   "id": "60fb06f8",
   "metadata": {},
   "outputs": [],
   "source": [
    "SAVED_MODEL_PATH = os.path.join(ROOT_DIR, \"saved_model.pkl\")\n",
    "\n",
    "SAVED_MODEL_PATH = 'Path to save or load models using joblib'"
   ]
  },
  {
   "cell_type": "code",
   "execution_count": null,
   "id": "242e23cc",
   "metadata": {},
   "outputs": [],
   "source": [
    "\n",
    "from IPython.display import display\n",
    "\n",
    "variables_summary = pd.DataFrame({\n",
    "    'Category': ['General', 'Analytics', 'Visual'],\n",
    "    'Variables': ['ROOT_DIR', 'DATAFRAME_SAMPLE', 'PLOT_STYLE']\n",
    "})\n",
    "display(variables_summary)\n"
   ]
  },
  {
   "cell_type": "code",
   "execution_count": null,
   "id": "11d30446",
   "metadata": {},
   "outputs": [],
   "source": [
    "\n",
    "help_dict = {\n",
    "    'Variables': {\n",
    "        'ROOT_DIR': 'Root directory of the current notebook.',\n",
    "        'DATAFRAME_SAMPLE': 'Sample DataFrame with random data.',\n",
    "        'PLOT_STYLE': 'Style settings for Seaborn plots.',\n",
    "        'TODAY': \"Today's date.\",\n",
    "        'DATE_STR': \"Today's date as a string.\",\n",
    "        'CPU_CORES': 'Number of available CPU cores.'\n",
    "    },\n",
    "    'Functions': {\n",
    "        'to_integer': {\n",
    "            'description': 'Convert DataFrame column to integer.',\n",
    "            'example': 'to_integer(DATAFRAME_SAMPLE[\"A\"])'\n",
    "        },\n",
    "        'to_float': {\n",
    "            'description': 'Convert DataFrame column to float.',\n",
    "            'example': 'to_float(DATAFRAME_SAMPLE[\"A\"])'\n",
    "        },\n",
    "        'to_string': {\n",
    "            'description': 'Convert DataFrame column to string.',\n",
    "            'example': 'to_string(DATAFRAME_SAMPLE[\"A\"])'\n",
    "        },\n",
    "        'to_lowercase': {\n",
    "            'description': 'Convert DataFrame column strings to lowercase.',\n",
    "            'example': 'to_lowercase(DATAFRAME_SAMPLE[\"A\"].astype(str))'\n",
    "        },\n",
    "        'to_uppercase': {\n",
    "            'description': 'Convert DataFrame column strings to uppercase.',\n",
    "            'example': 'to_uppercase(DATAFRAME_SAMPLE[\"A\"].astype(str))'\n",
    "        },\n",
    "        'to_datetime': {\n",
    "            'description': 'Convert DataFrame column string to datetime.',\n",
    "            'example': 'to_datetime(DATAFRAME_SAMPLE[\"A\"].astype(str))'\n",
    "        },\n",
    "        'datetime_to_string': {\n",
    "            'description': 'Convert DataFrame column datetime to string.',\n",
    "            'example': 'datetime_to_string(TODAY)'\n",
    "        },\n",
    "        'to_boolean': {\n",
    "            'description': 'Convert DataFrame column to boolean.',\n",
    "            'example': 'to_boolean(DATAFRAME_SAMPLE[\"A\"] > 0.5)'\n",
    "        },\n",
    "        'to_category': {\n",
    "            'description': 'Convert DataFrame column to category datatype.',\n",
    "            'example': 'to_category(DATAFRAME_SAMPLE[\"A\"].astype(str))'\n",
    "        },\n",
    "        'fillna_with_default': {\n",
    "            'description': 'Fill NaN values in DataFrame column with a default value.',\n",
    "            'example': 'fillna_with_default(DATAFRAME_SAMPLE[\"A\"], default_value=0)'\n",
    "        }\n",
    "    }\n",
    "}\n",
    "\n"
   ]
  },
  {
   "cell_type": "markdown",
   "id": "6bc11c7e",
   "metadata": {},
   "source": [
    "### Congratulations! The notebook has finished running."
   ]
  },
  {
   "cell_type": "code",
   "execution_count": null,
   "id": "01413ce6",
   "metadata": {},
   "outputs": [],
   "source": [
    "\n",
    "from datetime import datetime, timedelta\n"
   ]
  },
  {
   "cell_type": "code",
   "execution_count": null,
   "id": "4c69ac41",
   "metadata": {},
   "outputs": [],
   "source": [
    "\n",
    "TODAY = datetime.today()\n",
    "DATE_STR = TODAY.strftime('%Y-%m-%d')\n"
   ]
  },
  {
   "cell_type": "markdown",
   "id": "095ffec5",
   "metadata": {},
   "source": [
    "### Date and Time utilities have been set up."
   ]
  },
  {
   "cell_type": "code",
   "execution_count": null,
   "id": "c37b6e30",
   "metadata": {},
   "outputs": [],
   "source": [
    "\n",
    "def to_integer(df_column):\n",
    "    return df_column.astype(int)\n",
    "\n",
    "def to_string(df_column):\n",
    "    return df_column.astype(str)\n"
   ]
  },
  {
   "cell_type": "markdown",
   "id": "735ecee1",
   "metadata": {},
   "source": [
    "### Conversion utilities have been defined."
   ]
  },
  {
   "cell_type": "code",
   "execution_count": null,
   "id": "304e5cc6",
   "metadata": {},
   "outputs": [],
   "source": [
    "\n",
    "# Numeric Conversions\n",
    "def to_integer(df_column):\n",
    "    return df_column.astype(int)\n",
    "\n",
    "def to_float(df_column):\n",
    "    return df_column.astype(float)\n",
    "\n",
    "# String Conversions\n",
    "def to_string(df_column):\n",
    "    return df_column.astype(str)\n",
    "\n",
    "def to_lowercase(df_column):\n",
    "    return df_column.str.lower()\n",
    "\n",
    "def to_uppercase(df_column):\n",
    "    return df_column.str.upper()\n",
    "\n",
    "# Datetime Conversions\n",
    "def to_datetime(df_column, format='%Y-%m-%d'):\n",
    "    return pd.to_datetime(df_column, format=format)\n",
    "\n",
    "def datetime_to_string(df_column, format='%Y-%m-%d'):\n",
    "    return df_column.dt.strftime(format)\n",
    "\n",
    "# Boolean Conversions\n",
    "def to_boolean(df_column):\n",
    "    return df_column.astype(bool)\n",
    "\n",
    "# Category Conversions\n",
    "def to_category(df_column):\n",
    "    return df_column.astype('category')\n",
    "\n",
    "# Handling Missing Data\n",
    "def fillna_with_default(df_column, default_value=0):\n",
    "    return df_column.fillna(default_value)\n"
   ]
  },
  {
   "cell_type": "code",
   "execution_count": null,
   "id": "0e8bc4fa",
   "metadata": {},
   "outputs": [],
   "source": [
    "\n",
    "def simple_plot(x, y, title=\"Simple Plot\"):\n",
    "    plt.figure(figsize=(10,6))\n",
    "    plt.plot(x, y)\n",
    "    plt.title(title)\n",
    "    plt.show()\n"
   ]
  },
  {
   "cell_type": "markdown",
   "id": "5957793b",
   "metadata": {},
   "source": [
    "### Plotting utilities have been defined."
   ]
  },
  {
   "cell_type": "code",
   "execution_count": null,
   "id": "4a2abf1c",
   "metadata": {},
   "outputs": [],
   "source": [
    "\n",
    "from multiprocessing import Pool, cpu_count\n"
   ]
  },
  {
   "cell_type": "code",
   "execution_count": null,
   "id": "7268b4be",
   "metadata": {},
   "outputs": [],
   "source": [
    "\n",
    "CPU_CORES = cpu_count()\n"
   ]
  },
  {
   "cell_type": "markdown",
   "id": "1eb25992",
   "metadata": {},
   "source": [
    "### Parallel processing libraries and settings imported."
   ]
  },
  {
   "cell_type": "code",
   "execution_count": null,
   "id": "1a542475",
   "metadata": {},
   "outputs": [],
   "source": [
    "\n",
    "import cProfile\n"
   ]
  },
  {
   "cell_type": "code",
   "execution_count": null,
   "id": "e703e5ca",
   "metadata": {},
   "outputs": [],
   "source": [
    "\n",
    "def profile_function(func):\n",
    "    profiler = cProfile.Profile()\n",
    "    profiler.enable()\n",
    "    result = func()\n",
    "    profiler.disable()\n",
    "    profiler.print_stats(sort='time')\n",
    "    return result\n"
   ]
  },
  {
   "cell_type": "code",
   "execution_count": null,
   "id": "b69576b7",
   "metadata": {},
   "outputs": [],
   "source": [
    "import joblib"
   ]
  },
  {
   "cell_type": "code",
   "execution_count": null,
   "id": "6c94ae44",
   "metadata": {},
   "outputs": [],
   "source": [
    "\n",
    "variables_summary = pd.DataFrame({\n",
    "    'Category': ['General', 'Analytics', 'Visual', 'Date & Time', 'Parallel Processing'],\n",
    "    'Variables': ['ROOT_DIR', 'DATAFRAME_SAMPLE', 'PLOT_STYLE', 'TODAY, DATE_STR', 'CPU_CORES']\n",
    "})\n",
    "display(variables_summary)\n"
   ]
  },
  {
   "cell_type": "code",
   "execution_count": null,
   "id": "677ee538",
   "metadata": {},
   "outputs": [],
   "source": [
    "\n",
    "import json\n",
    "import re\n"
   ]
  },
  {
   "cell_type": "markdown",
   "id": "695c9afc",
   "metadata": {},
   "source": [
    "### Additional useful libraries imported."
   ]
  },
  {
   "cell_type": "markdown",
   "id": "fe9f281d",
   "metadata": {},
   "source": [
    "### Congratulations! The notebook has finished running. Use `help` to see a full list of available utilities."
   ]
  },
  {
   "cell_type": "markdown",
   "id": "e5abda36",
   "metadata": {},
   "source": [
    "### Congratulations! 🎉\n",
    "\n",
    "Your initialization notebook has run successfully. You're all set up and ready to go!"
   ]
  }
 ],
 "metadata": {
  "kernelspec": {
   "display_name": "Python 3",
   "language": "python",
   "name": "python3"
  },
  "language_info": {
   "name": "python",
   "version": "3.8.9"
  }
 },
 "nbformat": 4,
 "nbformat_minor": 5
}
